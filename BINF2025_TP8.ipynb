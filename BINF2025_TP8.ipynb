{
  "nbformat": 4,
  "nbformat_minor": 0,
  "metadata": {
    "colab": {
      "provenance": [],
      "authorship_tag": "ABX9TyO4EBlCniHmp+9B7KsSDhF9",
      "include_colab_link": true
    },
    "kernelspec": {
      "name": "python3",
      "display_name": "Python 3"
    },
    "language_info": {
      "name": "python"
    }
  },
  "cells": [
    {
      "cell_type": "markdown",
      "metadata": {
        "id": "view-in-github",
        "colab_type": "text"
      },
      "source": [
        "<a href=\"https://colab.research.google.com/github/pparutto/BINF2025_TP8/blob/main/BINF2025_TP8.ipynb\" target=\"_parent\"><img src=\"https://colab.research.google.com/assets/colab-badge.svg\" alt=\"Open In Colab\"/></a>"
      ]
    },
    {
      "cell_type": "markdown",
      "source": [
        "# BINF TP 8 : Genome wide association study\n",
        "\n",
        "L'étude d'association pangénomique - Genome Wide Association study (GWAS) - est une méthode permettant de mettre en avant des mutations génétiques associées à une condition. Pour cela, on va recruter un ensemble de sujets possédant la condition que l’on souhaite étudier et un ensemble de sujets contrôle \"sains\". On va ensuite génotyper (ou séquencer) chaque sujet, c’est-à-dire déterminer les nucléotides présents à un ensembles de positions précises le long du génome. Ces positions sont connues pour posséder plusieurs nucléotides différents (des allèles) dans la population humaine qu'on appelle SNP (Single Nucleotide Polymorphism).\n",
        "\n",
        "Dans ce TP nous allons chercher les gènes associés aux maladies cornariennes - ensemble de maladies où les artères vascularisant le cœur n’arrivent plus à apporter suffisamment de sang pour alimenter les muscles cardiaques. Nous allons utiliser les données de l’étude [PennCath](https://pmc.ncbi.nlm.nih.gov/articles/PMC3335297/). Cette étude comporte 1401 sujets pour lesquels on a génotypé 860473 positions.\n",
        "\n",
        "Les données sont disponibles [ici](https://www.dropbox.com/scl/fo/tyt6sx74zevblzl4i5lpr/AAJt-WmbWCKmsPuRyzYPfP0?rlkey=yuklfyfy7b93yn2sow0uzuzub&dl=0). Notez que le fichier de génotypage complet avec 1401 patients fait > 2 go, pour faciliter le TP, nous utiliserons un fichier réduit avec seulement 100 patients."
      ],
      "metadata": {
        "id": "Y6ZyFufWOi6c"
      }
    },
    {
      "cell_type": "markdown",
      "source": [
        "## Exercice 1 : Chargement des données\n",
        "\n",
        "Les données de l’étude sont divisées en plusieurs fichiers :\n",
        "\n",
        "\n",
        "* penncath.bim : qui contient les informations sur les positions génotypées (SNPs), une position par ligne avec les colonnes suivantes :\n",
        "  * Chromosome : pouvant contenir les valeurs 1 – 22, X ou Y.\n",
        "  * Identifiant de la position dans le génome de référence.\n",
        "  *\tDistance génétique (ignorez cette colonne, elle n’est pas remplie dans le fichier).\n",
        "  * Position sur le chromosome en paires de bases (on va aussi ignorer cette colonne).\n",
        "  * Allèle mineure : allèle alternative dans la population (valeurs A,T,G,C ou -9 pour indiquer une absence de données).\n",
        "  *\tAllèle majeure : allèle la plus présente dans la population.\n",
        "\n",
        "*\tpenncath.fam : qui contient les informations sur les sujets, une ligne par individu. Dans ce fichier, on s’intéresse uniquement à la première colonne qui contient l’identifiant de la famille.\n",
        "\n",
        "*\tpenncath.csv : qui contient des informations cliniques sur les patients, en particulier s’il est atteint de la maladie coronarienne. Ce fichier contient une ligne par patient avec les colonnes suivantes :\n",
        "   * Id du patient correspondant à la première colonne du fichier fam.\n",
        "   * Maladie coronarienne : 1=OUI, 0=NON.\n",
        "   * Les autres colonnes ne nous intéressent pas.\n",
        "\n",
        "* genotype_small.csv : contient les donnes de génotypage, une colonne par patient, une ligne par position génotypée. Les valeurs sont : 0 : homozygote allèle majeur, 1 : hétérozygote, 2 : homozygote allèle mineure, 3 : génotype manquant.\n",
        "\n",
        "Chargez les différents fichiers en faisant attention à bien maintenir l’ordre des lignes entre patients et génotypes et associez à chaque patient son statut malade ou sain."
      ],
      "metadata": {
        "id": "DjL8nAEFQg2e"
      }
    },
    {
      "cell_type": "code",
      "source": [
        "print(\"Votre code ici !!\")"
      ],
      "metadata": {
        "id": "z15tAP9gQHDG"
      },
      "execution_count": null,
      "outputs": []
    },
    {
      "cell_type": "markdown",
      "source": [
        "## Exercice 2 : contrôle qualité\n",
        "\n",
        "Comme on manipule des données brutes, certaines vont être problématiques et on va vouloir les enlever pour éviter de biaiser les résultats. Dans cette exercice, nous allons détecter et filtrer les données problématiques.\n",
        "\n",
        "\n",
        "1. Vérifions la distribution des données par chromosome. Affichez le nombre de SNP pour chaque chromosome sous la forme d'un barplot (l'axe x représente chaque chromosome et l'axe y le nombre de SNPs correspondant)."
      ],
      "metadata": {
        "id": "-7frqd21RQkL"
      }
    },
    {
      "cell_type": "code",
      "execution_count": null,
      "metadata": {
        "id": "xvQpFEXcOZUM"
      },
      "outputs": [],
      "source": [
        "print(\"Votre code ici !!\")"
      ]
    },
    {
      "cell_type": "markdown",
      "source": [
        "2. Qu’observez-vous ?"
      ],
      "metadata": {
        "id": "AFMU_MFqRruM"
      }
    },
    {
      "cell_type": "markdown",
      "source": [
        "**Votre réponse ici !!**"
      ],
      "metadata": {
        "id": "LDCUhOq6Rv6f"
      }
    },
    {
      "cell_type": "markdown",
      "source": [
        "2. Vérifions maintenant les valeurs des allèles. Affichez un barplot comptant la quantité de chaque nucléotide apparaissant dans les allèles mineures (-9 signifie une absence de données, affichez le dans le graphique, c’est important).\n"
      ],
      "metadata": {
        "id": "dxWNvXqCRnpZ"
      }
    },
    {
      "cell_type": "code",
      "source": [
        "print(\"Votre code ici !!\")"
      ],
      "metadata": {
        "id": "kZHuPUREXmC7"
      },
      "execution_count": null,
      "outputs": []
    },
    {
      "cell_type": "markdown",
      "source": [
        "3. Faites de même avec les valeurs de l’allèle majeure."
      ],
      "metadata": {
        "id": "hywpavfWXmgj"
      }
    },
    {
      "cell_type": "code",
      "source": [
        "print(\"Votre code ici !!\")"
      ],
      "metadata": {
        "id": "S06lFKNFXpi6"
      },
      "execution_count": null,
      "outputs": []
    },
    {
      "cell_type": "markdown",
      "source": [
        "4. Qu’observez-vous en comparant ces deux graphiques ?"
      ],
      "metadata": {
        "id": "fKPlBpolXp4a"
      }
    },
    {
      "cell_type": "markdown",
      "source": [
        "**Votre réponse ici !!**"
      ],
      "metadata": {
        "id": "ZkIiI0MiXrkv"
      }
    },
    {
      "cell_type": "markdown",
      "source": [
        "5. Intéressons-nous maintenant aux données de génotypage. Dans ces données, une valeur NAN indique qu’il y a eu une erreur au niveau de l'acquisition des données. Affichez l’histogramme du nombre d’erreurs de génotypage par patient (nombre de NAN ou valeurs 4)."
      ],
      "metadata": {
        "id": "SxErlU8mXztr"
      }
    },
    {
      "cell_type": "code",
      "source": [
        "print(\"Votre code ici !!\")"
      ],
      "metadata": {
        "id": "KMhUoEfiYFZw"
      },
      "execution_count": null,
      "outputs": []
    },
    {
      "cell_type": "markdown",
      "source": [
        "6. Affichez l’histogramme du nombre d’erreurs par position de SNP (nombre de NAN ou valeurs 4)."
      ],
      "metadata": {
        "id": "HcUwaM30X-S_"
      }
    },
    {
      "cell_type": "code",
      "source": [
        "print(\"Votre code ici !!\")"
      ],
      "metadata": {
        "id": "jyvNaVywYFAU"
      },
      "execution_count": null,
      "outputs": []
    },
    {
      "cell_type": "markdown",
      "source": [
        "7. Retirez tous les SNP qui possèdent des valeurs à NaN ainsi que ceux possédant une seule valeur chez tous les patients. Faites attention de garder la liste des caractéristiques des SNP bien synchronisé car nous l’utiliserons pour la dernière question."
      ],
      "metadata": {
        "id": "M3hZVT8AYFzj"
      }
    },
    {
      "cell_type": "code",
      "source": [
        "print(\"Votre code ici !!\")"
      ],
      "metadata": {
        "id": "e6InXC4lYTE_"
      },
      "execution_count": null,
      "outputs": []
    },
    {
      "cell_type": "markdown",
      "source": [
        "## Exercice 3 : Association\n",
        "\n",
        "Pour chaque SNP on va calculer sa probabilité d’être sur ou sous-représenté dans la population malade comparé à la population contrôle. Il existe plusieurs méthodes statistiques plus ou moins sophistiquées pour faire celà, nous allons voir la méthode la plus simple utilisant des tableaux de comptes d’allèles.\n",
        "\n",
        "1. Pour chaque génotype k, construisez le tableau 2x2 suivant O :\n",
        "$$\\begin{array}{|l|ll|}\n",
        "\\hline\n",
        "& Allele\\ mineure & Allele\\ majeure\\\\\\hline\n",
        "sain & a & b\\\\\n",
        "malade & c & d\\\\\n",
        "\\hline\n",
        "\\end{array}$$\n",
        "où $a,b$ sont les nombres de patients sain possédant l'allèle mineure ou majeure (respectivement) et $c,d$ les nombres de patients malades possédant l'alèlle mineure ou majeure (respectivement), pour le génotype $k$."
      ],
      "metadata": {
        "id": "seIzd4axYfzB"
      }
    },
    {
      "cell_type": "code",
      "source": [
        "print(\"Votre code ici !!\")"
      ],
      "metadata": {
        "id": "hr7QPkDoaewc"
      },
      "execution_count": null,
      "outputs": []
    },
    {
      "cell_type": "markdown",
      "source": [
        "2. \tPour chaque génotype $k$, calculez une p-value en effectuant un test du $\\chi^2$ sur la table $O$ :\n",
        "$$\n",
        "z_{ij} = \\frac{(o_{ij}-e_{ij})^2}{e_{ij}},\n",
        "$$\n",
        "où $o_{ij}$ est la valeure de la case $i,j$ de la table $O$ (la valeure observée) et $e$ la valeur attendue selon l'hypothèse nulle calculée par:\n",
        "$$e_{ij} = \\frac{\\left(\\sum\\limits_{k=1}^{2}o_{k,j}\\right)\\left(\\sum\\limits_{k=1}^{2}o_{i,k}\\right)}{\\sum\\limits_{k=1}^{2}\\sum\\limits_{l=1}^{2} o_{kl}}.$$\n",
        "\n",
        " Finalement $z = z_{11} + z_{12} + z_{21} + z_{22}$ doit suivre une loi du $\\chi^2$ à 1 degré de liberté. La p-value que le génotype mutant du SNP $k$ ait un effet sur la maladie est donnée par la probabilité associée à $z$.\n",
        "\n",
        " Vous pouvez utilisez la fonction chi2_contingency de scipy.stats."
      ],
      "metadata": {
        "id": "dUNmVWUKafWU"
      }
    },
    {
      "cell_type": "code",
      "source": [
        "print(\"Votre code ici !!\")"
      ],
      "metadata": {
        "id": "15Wj_0G9cHjO"
      },
      "execution_count": null,
      "outputs": []
    },
    {
      "cell_type": "markdown",
      "source": [
        "3. Affichez les résultat sous forme de graphique de Manhattan. Affichez toutes les paires (i, -log10(pval[i])) avec un marqueur « . »."
      ],
      "metadata": {
        "id": "kD9k-sLzcLCV"
      }
    },
    {
      "cell_type": "code",
      "source": [
        "print(\"Votre code ici !!\")"
      ],
      "metadata": {
        "id": "Bel6m2NzcaEA"
      },
      "execution_count": null,
      "outputs": []
    },
    {
      "cell_type": "markdown",
      "source": [
        "4. Finalement, affichez les identifiants de tous les SNPs significativement plus présents chez les patients malades que sain. C'est à dire, les SNP avec\n",
        "$$-log10(pval) > 5$$"
      ],
      "metadata": {
        "id": "8XEzGFnFcaa_"
      }
    },
    {
      "cell_type": "code",
      "source": [
        "print(\"Votre code ici !!\")"
      ],
      "metadata": {
        "id": "4Vcj3SXOcpZF"
      },
      "execution_count": null,
      "outputs": []
    }
  ]
}